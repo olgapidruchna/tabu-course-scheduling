{
 "cells": [
  {
   "cell_type": "code",
   "execution_count": null,
   "metadata": {},
   "outputs": [],
   "source": [
    "import random\n",
    "from collections import defaultdict"
   ]
  },
  {
   "cell_type": "markdown",
   "metadata": {},
   "source": [
    "# Implementation of Tabu Search in Course Scheduling for Olin\n",
    "\n"
   ]
  },
  {
   "cell_type": "markdown",
   "metadata": {},
   "source": [
    "### Evaluation Function "
   ]
  },
  {
   "cell_type": "code",
   "execution_count": 1,
   "metadata": {},
   "outputs": [],
   "source": [
    "def conflict_free_courses(schedule, student_courses):\n",
    "    \"\"\"\n",
    "    Serves as our evaluation function for the tabu algorithm. Counts the number of courses\n",
    "    that do not have time conflicts based on students' listed preferred courses.\n",
    "\n",
    "    Args:\n",
    "        - schedule: A dictionary with course codes listed as keys, and the time slot as\n",
    "        the value.\n",
    "        - student_courses: A dictionary with students as keys and their preferred courses\n",
    "        as the value. \n",
    "\n",
    "    Returns:\n",
    "        - total_conflict_free_courses: An integer representing the number of conflict-free\n",
    "        courses there are across each student.\n",
    "    \"\"\"\n",
    "    total_conflict_free_courses = 0\n",
    "    \n",
    "    for _, preferred_courses in student_courses.items():\n",
    "        times = [schedule[course] for course in preferred_courses if course in schedule]\n",
    "        unique_times = set(times)\n",
    "\n",
    "        # count only non-conflicting courses\n",
    "        conflict_free_courses = len(unique_times)\n",
    "        total_conflict_free_courses += conflict_free_courses\n",
    "\n",
    "    return total_conflict_free_courses"
   ]
  },
  {
   "cell_type": "markdown",
   "metadata": {},
   "source": [
    "### Constraint Checking Function"
   ]
  },
  {
   "cell_type": "code",
   "execution_count": 2,
   "metadata": {},
   "outputs": [],
   "source": [
    "def is_valid_solution(schedule):\n",
    "    \"\"\" \n",
    "    This function ensures that the schedule produced follows all constraints:\n",
    "    \n",
    "        - no time slot has more than 3 courses\n",
    "        - SCOPE is only scheduled on Wednesdays\n",
    "        - First year courses are not scheduled on Wednesdays\n",
    "\n",
    "    Args:\n",
    "        - schedule: A dictionary representing the course codes and their timeslots.\n",
    "\n",
    "    Returns:\n",
    "        - A boolean: True if the schedule is valid, False otherwise\n",
    "    \"\"\"\n",
    "    time_slot_counts = defaultdict(int)\n",
    "\n",
    "    # Going through all courses in the schedule\n",
    "    for course, time_slot in schedule.items():\n",
    "        # check first year classes not on wed\n",
    "        if 'FRST' in course and time_slot == 5:\n",
    "            return False\n",
    "        time_slot_counts[time_slot] += 1\n",
    "\n",
    "    # check no more than 3 classes per slot\n",
    "    if not all(count <= 3 for count in time_slot_counts.values()):\n",
    "        return False\n",
    "    \n",
    "    # check that SCOPE is set on Wednesday's timeslot (5)\n",
    "    if 'SCOPE' in schedule.keys():\n",
    "        if schedule['SCOPE'] != 5:\n",
    "            return False\n",
    "\n",
    "    return True"
   ]
  },
  {
   "cell_type": "markdown",
   "metadata": {},
   "source": [
    "### Neighbor Generating Function"
   ]
  },
  {
   "cell_type": "code",
   "execution_count": 3,
   "metadata": {},
   "outputs": [],
   "source": [
    "def generate_solutions(schedule, time_slots):\n",
    "    \"\"\"\n",
    "    Generates neighboring solutions by moving or swapping course time slots.\n",
    "\n",
    "    Args:\n",
    "        - schedule: A dictionary representing course codes and their respective \n",
    "        time slots.\n",
    "        - time_slots: A list of integers representing the time slot (ex: TF 1pm)\n",
    "\n",
    "    Returns:\n",
    "        - neighbors: A list of valid schedule solutions.\n",
    "    \"\"\"\n",
    "    neighbors = []\n",
    "    courses = list(schedule.keys())\n",
    "\n",
    "    # generate multiple candidate solutions\n",
    "    for _ in range(len(courses)):\n",
    "        new_schedule = schedule.copy()\n",
    "\n",
    "        # randomly moves a course to a different time slot\n",
    "        if random.random() < 0.5:\n",
    "            course = random.choice(courses)\n",
    "            new_schedule[course] = random.choice(time_slots)\n",
    "\n",
    "        # randomly swaps two courses' time slots\n",
    "        else:\n",
    "            c1, c2 = random.sample(courses, 2)\n",
    "            new_schedule[c1], new_schedule[c2] = new_schedule[c2], new_schedule[c1]\n",
    "\n",
    "        # only add valid schedules \n",
    "        if is_valid_solution(new_schedule):\n",
    "            neighbors.append(new_schedule)\n",
    "\n",
    "    return neighbors"
   ]
  },
  {
   "cell_type": "code",
   "execution_count": 4,
   "metadata": {},
   "outputs": [],
   "source": [
    "def tabu_search(courses, student_courses, time_slots, max_iter=100, tabu_size=10):\n",
    "    \"\"\"\n",
    "    Optimizes the course schedule using Tabu Search heuristic.\n",
    "\n",
    "    Args:\n",
    "        - courses: A list of courses to optimize.\n",
    "        - student_courses: A dictionary of students and their preferred courses.\n",
    "        - time_slots: A list of time slots for courses to be set.\n",
    "        - max_iter: An integer representing the max times to run through algorithm.\n",
    "        Set to 100 by default, unless specified otherwise.\n",
    "        - tabu_size: An integer representing how long the tabu list is/how many\n",
    "        iterations before a solution is 'un-tabued'. Set to 10 by default.\n",
    "\n",
    "    Returns: \n",
    "        - best_solution: A dictionary representing each course and their time slot\n",
    "        - best_score: An integer representing the number of conflict-free courses\n",
    "        based on the students' preferred courses.\n",
    "    \"\"\"\n",
    "    # initializes a random valid schedule to start off with\n",
    "    while True:\n",
    "        curr_schedule = {course: random.choice(time_slots) for course in courses}\n",
    "        if is_valid_solution(curr_schedule):\n",
    "            break\n",
    "    # print(f\"Current schedule: {curr_schedule}\")\n",
    "\n",
    "    # initializes best schedule/best score to beat \n",
    "    best_schedule = curr_schedule\n",
    "    best_score = conflict_free_courses(curr_schedule, student_courses)\n",
    "    tabu_list = []\n",
    "\n",
    "    for _ in range(max_iter):\n",
    "        neighbors = generate_solutions(curr_schedule, time_slots)\n",
    "        # print(f\"Neighbors: {neighbors}\")\n",
    "\n",
    "        # evaluates neighbors and selects the best one not in tabu list\n",
    "        best_neighbor = None\n",
    "        best_neighbor_score = -1\n",
    "\n",
    "        for neighbor in neighbors:\n",
    "            if neighbor not in tabu_list:\n",
    "                score = conflict_free_courses(neighbor, student_courses)\n",
    "                if score > best_neighbor_score:\n",
    "                    best_neighbor = neighbor\n",
    "                    best_neighbor_score = score\n",
    "\n",
    "        # checks if curr sol is best global solution\n",
    "        if best_neighbor:\n",
    "            curr_schedule = best_neighbor\n",
    "            tabu_list.append(best_neighbor)\n",
    "            if len(tabu_list) > tabu_size:  # updates tabu list\n",
    "                tabu_list.pop(0)\n",
    "\n",
    "            if best_neighbor_score > best_score:\n",
    "                best_schedule = best_neighbor\n",
    "                best_score = best_neighbor_score\n",
    "\n",
    "    return best_schedule, best_score\n"
   ]
  },
  {
   "cell_type": "markdown",
   "metadata": {},
   "source": [
    "### Example Course Schedule Problem:"
   ]
  },
  {
   "cell_type": "code",
   "execution_count": null,
   "metadata": {},
   "outputs": [
    {
     "ename": "NameError",
     "evalue": "name 'random' is not defined",
     "output_type": "error",
     "traceback": [
      "\u001b[0;31m---------------------------------------------------------------------------\u001b[0m",
      "\u001b[0;31mNameError\u001b[0m                                 Traceback (most recent call last)",
      "Cell \u001b[0;32mIn[6], line 21\u001b[0m\n\u001b[1;32m      4\u001b[0m \u001b[38;5;66;03m# \"\"\"\u001b[39;00m\n\u001b[1;32m      5\u001b[0m \u001b[38;5;66;03m# 1 - MR 1 pm \u001b[39;00m\n\u001b[1;32m      6\u001b[0m \u001b[38;5;66;03m# 2 - MR 2:50 pm\u001b[39;00m\n\u001b[0;32m   (...)\u001b[0m\n\u001b[1;32m      9\u001b[0m \u001b[38;5;66;03m# 5 - W\u001b[39;00m\n\u001b[1;32m     10\u001b[0m \u001b[38;5;66;03m# \"\"\"\u001b[39;00m\n\u001b[1;32m     12\u001b[0m student_courses \u001b[38;5;241m=\u001b[39m {\n\u001b[1;32m     13\u001b[0m     \u001b[38;5;124m\"\u001b[39m\u001b[38;5;124mAlice\u001b[39m\u001b[38;5;124m\"\u001b[39m: {\u001b[38;5;124m\"\u001b[39m\u001b[38;5;124mCS101\u001b[39m\u001b[38;5;124m\"\u001b[39m, \u001b[38;5;124m\"\u001b[39m\u001b[38;5;124mMATH201\u001b[39m\u001b[38;5;124m\"\u001b[39m, \u001b[38;5;124m\"\u001b[39m\u001b[38;5;124mBIO301\u001b[39m\u001b[38;5;124m\"\u001b[39m},\n\u001b[1;32m     14\u001b[0m     \u001b[38;5;124m\"\u001b[39m\u001b[38;5;124mBob\u001b[39m\u001b[38;5;124m\"\u001b[39m: {\u001b[38;5;124m\"\u001b[39m\u001b[38;5;124mCS101\u001b[39m\u001b[38;5;124m\"\u001b[39m, \u001b[38;5;124m\"\u001b[39m\u001b[38;5;124mCS102\u001b[39m\u001b[38;5;124m\"\u001b[39m, \u001b[38;5;124m\"\u001b[39m\u001b[38;5;124mHIST202\u001b[39m\u001b[38;5;124m\"\u001b[39m},\n\u001b[0;32m   (...)\u001b[0m\n\u001b[1;32m     18\u001b[0m     \u001b[38;5;124m\"\u001b[39m\u001b[38;5;124mFranklin\u001b[39m\u001b[38;5;124m\"\u001b[39m : {\u001b[38;5;124m\"\u001b[39m\u001b[38;5;124mFRST101\u001b[39m\u001b[38;5;124m\"\u001b[39m}\n\u001b[1;32m     19\u001b[0m }\n\u001b[0;32m---> 21\u001b[0m best_schedule, best_score \u001b[38;5;241m=\u001b[39m tabu_search(courses, student_courses, time_slots)\n\u001b[1;32m     23\u001b[0m \u001b[38;5;28mprint\u001b[39m(\u001b[38;5;124m\"\u001b[39m\u001b[38;5;124mOptimized Schedule:\u001b[39m\u001b[38;5;124m\"\u001b[39m, best_schedule)\n\u001b[1;32m     24\u001b[0m \u001b[38;5;28mprint\u001b[39m(\u001b[38;5;124m\"\u001b[39m\u001b[38;5;124mTotal Conflict-Free Course Assignments:\u001b[39m\u001b[38;5;124m\"\u001b[39m, best_score)\n",
      "Cell \u001b[0;32mIn[4], line 21\u001b[0m, in \u001b[0;36mtabu_search\u001b[0;34m(courses, student_courses, time_slots, max_iter, tabu_size)\u001b[0m\n\u001b[1;32m     19\u001b[0m \u001b[38;5;66;03m# initializes a random valid schedule to start off with\u001b[39;00m\n\u001b[1;32m     20\u001b[0m \u001b[38;5;28;01mwhile\u001b[39;00m \u001b[38;5;28;01mTrue\u001b[39;00m:\n\u001b[0;32m---> 21\u001b[0m     curr_schedule \u001b[38;5;241m=\u001b[39m {course: random\u001b[38;5;241m.\u001b[39mchoice(time_slots) \u001b[38;5;28;01mfor\u001b[39;00m course \u001b[38;5;129;01min\u001b[39;00m courses}\n\u001b[1;32m     22\u001b[0m     \u001b[38;5;28;01mif\u001b[39;00m is_valid_solution(curr_schedule):\n\u001b[1;32m     23\u001b[0m         \u001b[38;5;28;01mbreak\u001b[39;00m\n",
      "\u001b[0;31mNameError\u001b[0m: name 'random' is not defined"
     ]
    }
   ],
   "source": [
    "courses = [\"ENGR3415\", \"ENGR3333\", \"MTH2133\", \"AHS1256\", \"AHS8535\", \"BIO301\", \"ENGR1690\", \"SCOPE\", \"FRST101\"]\n",
    "time_slots = [1, 2, 3, 4, 5]\n",
    "\n",
    "# \"\"\"\n",
    "# 1 - MR 1 pm \n",
    "# 2 - MR 2:50 pm\n",
    "# 3 - TF 1 pm\n",
    "# 4 - TF 2:50 pm\n",
    "# 5 - W\n",
    "# \"\"\"\n",
    "\n",
    "student_courses = {\n",
    "    \"Lily\": {\"ENGR3415\", \"MTH2133\", \"BIO301\"},\n",
    "    \"Madie\": {\"ENGR3415\", \"ENGR3333\", \"AHS8535\"},\n",
    "    \"Olga\": {\"ENGR3333\", \"MTH2133\", \"ENGR1690\"},\n",
    "    \"Amit\": {\"AHS1256\", \"MTH2133\", \"BIO301\"},\n",
    "    \"Anmol\": {\"ENGR1690\", \"AHS1256\", \"ENGR3415\"},\n",
    "    \"Franklin\" : {\"FRST101\"}\n",
    "}\n",
    "\n",
    "best_schedule, best_score = tabu_search(courses, student_courses, time_slots)\n",
    "\n",
    "print(\"Optimized Schedule:\", best_schedule)\n",
    "print(\"Total Conflict-Free Course Assignments:\", best_score)\n"
   ]
  }
 ],
 "metadata": {
  "kernelspec": {
   "display_name": "base",
   "language": "python",
   "name": "python3"
  },
  "language_info": {
   "codemirror_mode": {
    "name": "ipython",
    "version": 3
   },
   "file_extension": ".py",
   "mimetype": "text/x-python",
   "name": "python",
   "nbconvert_exporter": "python",
   "pygments_lexer": "ipython3",
   "version": "3.12.7"
  }
 },
 "nbformat": 4,
 "nbformat_minor": 2
}
